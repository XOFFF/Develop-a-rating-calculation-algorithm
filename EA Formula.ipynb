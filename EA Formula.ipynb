{
 "cells": [
  {
   "cell_type": "code",
   "execution_count": 18,
   "metadata": {},
   "outputs": [
    {
     "name": "stdout",
     "output_type": "stream",
     "text": [
      "Please, write how many hours will be a workday : 8.0\n"
     ]
    }
   ],
   "source": [
    "hours_at_work = float(input(\"Please, write how many hours will be a workday : \"))\n",
    "normal_perc_for_job = 60.0\n",
    "normal_perc_for_rest = 40.0\n",
    "employees_points = 0"
   ]
  },
  {
   "cell_type": "code",
   "execution_count": 19,
   "metadata": {},
   "outputs": [
    {
     "name": "stdout",
     "output_type": "stream",
     "text": [
      "Please, write how many hours of work employee spent for a workday : 5.5\n",
      "Please, write how many hours of rest employee spent for a workday : 2.5\n",
      "If an employee did his task, please, write True. Otherwise- False : True\n"
     ]
    }
   ],
   "source": [
    "employees_h_f_job_today = float(input(\"Please, write how many hours of work employee spent for a workday : \"))\n",
    "employees_h_f_rest_today = float(input(\"Please, write how many hours of rest employee spent for a workday : \"))\n",
    "\n",
    "job_perc = employees_h_f_job_today * 100 / hours_at_work\n",
    "rest_perc = employees_h_f_rest_today * 100 / hours_at_work\n",
    "\n",
    "if job_perc >= normal_perc_for_job:\n",
    "    employees_points += 2\n",
    "else:\n",
    "    employees_points += 1\n",
    "if rest_perc <= normal_perc_for_rest:\n",
    "    employees_points += 2\n",
    "else:\n",
    "    employees_points += 1\n",
    "control_question = input(\"If an employee did his task, please, write True. Otherwise- False : \")\n",
    "if control_question == \"True\":\n",
    "    employees_points += 3"
   ]
  },
  {
   "cell_type": "code",
   "execution_count": 20,
   "metadata": {},
   "outputs": [
    {
     "name": "stdout",
     "output_type": "stream",
     "text": [
      "7\n"
     ]
    }
   ],
   "source": [
    "print(employees_points)"
   ]
  },
  {
   "cell_type": "code",
   "execution_count": null,
   "metadata": {},
   "outputs": [],
   "source": []
  }
 ],
 "metadata": {
  "kernelspec": {
   "display_name": "Python 3",
   "language": "python",
   "name": "python3"
  },
  "language_info": {
   "codemirror_mode": {
    "name": "ipython",
    "version": 3
   },
   "file_extension": ".py",
   "mimetype": "text/x-python",
   "name": "python",
   "nbconvert_exporter": "python",
   "pygments_lexer": "ipython3",
   "version": "3.7.4"
  }
 },
 "nbformat": 4,
 "nbformat_minor": 2
}
